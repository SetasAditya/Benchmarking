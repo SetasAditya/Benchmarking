{
 "cells": [
  {
   "cell_type": "code",
   "execution_count": 1,
   "metadata": {},
   "outputs": [
    {
     "name": "stdout",
     "output_type": "stream",
     "text": [
      "Requirement already satisfied: gym in /home/aditya/Documents/TuRBO-master/turbo/lib/python3.10/site-packages (0.26.2)\n",
      "Requirement already satisfied: numpy>=1.18.0 in /home/aditya/Documents/TuRBO-master/turbo/lib/python3.10/site-packages (from gym) (1.26.4)\n",
      "Requirement already satisfied: gym-notices>=0.0.4 in /home/aditya/Documents/TuRBO-master/turbo/lib/python3.10/site-packages (from gym) (0.0.8)\n",
      "Requirement already satisfied: cloudpickle>=1.2.0 in /home/aditya/Documents/TuRBO-master/turbo/lib/python3.10/site-packages (from gym) (3.0.0)\n"
     ]
    }
   ],
   "source": [
    "!pip install gym"
   ]
  },
  {
   "cell_type": "code",
   "execution_count": 2,
   "metadata": {},
   "outputs": [],
   "source": [
    "import gym\n",
    "import numpy as np\n",
    "import sys\n",
    "sys.path.append('/home/aditya/Documents/TuRBO-master')\n",
    "\n",
    "from turbo.turbo_m import TurboM\n",
    "from turbo.turbo_1 import Turbo1 \n",
    "\n",
    "import numpy as np"
   ]
  },
  {
   "cell_type": "code",
   "execution_count": 3,
   "metadata": {},
   "outputs": [],
   "source": [
    "# Define the CartPole objective function\n",
    "def cartpole_objective(params):\n",
    "    env = gym.make('CartPole-v1')\n",
    "    observation = env.reset()\n",
    "    total_reward = 0\n",
    "    for _ in range(200):  # Run for a maximum of 200 timesteps\n",
    "        action = int(params[0])  # Action is either 0 or 1 (left or right)\n",
    "        observation, reward, done, _, _ = env.step(action)\n",
    "        total_reward += reward\n",
    "        if done:\n",
    "            break\n",
    "    env.close()  # Close the environment\n",
    "    return -total_reward  # Negative because Turbo minimizes the objective function\n"
   ]
  },
  {
   "cell_type": "code",
   "execution_count": 4,
   "metadata": {},
   "outputs": [
    {
     "name": "stdout",
     "output_type": "stream",
     "text": [
      "Using dtype = torch.float64 \n",
      "Using device = cpu\n",
      "Using dtype = torch.float64 \n",
      "Using device = cpu\n"
     ]
    }
   ],
   "source": [
    "# Set up the Turbo optimizer\n",
    "turbom_cartpole = TurboM(\n",
    "    f=cartpole_objective,\n",
    "    lb=np.array([0]),     # Lower bound for the action parameter\n",
    "    ub=np.array([1]),     # Upper bound for the action parameter\n",
    "    n_init=10,\n",
    "    max_evals=1000,\n",
    "    n_trust_regions=5,\n",
    "    batch_size=10,\n",
    "    verbose=True,\n",
    "    use_ard=False,        # We're using a scalar parameter, so no need for ARD\n",
    "    max_cholesky_size=2000,\n",
    "    n_training_steps=50,\n",
    "    min_cuda=1024,\n",
    "    device=\"cpu\",\n",
    "    dtype=\"float64\",\n",
    ")\n",
    "\n",
    "# Set up the Turbo optimizer\n",
    "turbo_cartpole = Turbo1(\n",
    "    f=cartpole_objective,\n",
    "    lb=np.array([0]),     # Lower bound for the action parameter\n",
    "    ub=np.array([1]),     # Upper bound for the action parameter\n",
    "    n_init=10,\n",
    "    max_evals=1000,\n",
    "    batch_size=10,\n",
    "    verbose=True,\n",
    "    use_ard=False,        # We're using a scalar parameter, so no need for ARD\n",
    "    max_cholesky_size=2000,\n",
    "    n_training_steps=50,\n",
    "    min_cuda=1024,\n",
    "    device=\"cpu\",\n",
    "    dtype=\"float64\",\n",
    ")\n"
   ]
  },
  {
   "cell_type": "code",
   "execution_count": 5,
   "metadata": {},
   "outputs": [
    {
     "name": "stdout",
     "output_type": "stream",
     "text": [
      "Starting from fbest = -11.0\n"
     ]
    },
    {
     "name": "stderr",
     "output_type": "stream",
     "text": [
      "/home/aditya/Documents/TuRBO-master/turbo/lib/python3.10/site-packages/gym/utils/passive_env_checker.py:233: DeprecationWarning: `np.bool8` is a deprecated alias for `np.bool_`.  (Deprecated NumPy 1.24)\n",
      "  if not isinstance(terminated, (bool, np.bool8)):\n",
      "/home/aditya/Documents/TuRBO-master/turbo/lib/python3.10/site-packages/gym/utils/passive_env_checker.py:233: DeprecationWarning: `np.bool8` is a deprecated alias for `np.bool_`.  (Deprecated NumPy 1.24)\n",
      "  if not isinstance(terminated, (bool, np.bool8)):\n"
     ]
    },
    {
     "name": "stdout",
     "output_type": "stream",
     "text": [
      "80) Restarting with fbest = -11.0\n",
      "Starting from fbest = -10.0\n",
      "170) Restarting with fbest = -11.0\n",
      "Starting from fbest = -10.0\n",
      "260) Restarting with fbest = -11.0\n",
      "Starting from fbest = -10.0\n",
      "340) Restarting with fbest = -10.0\n",
      "Starting from fbest = -10.0\n",
      "430) Restarting with fbest = -11.0\n",
      "Starting from fbest = -10.0\n",
      "520) Restarting with fbest = -11.0\n",
      "Starting from fbest = -10.0\n",
      "610) Restarting with fbest = -11.0\n",
      "Starting from fbest = -10.0\n",
      "700) Restarting with fbest = -11.0\n",
      "Starting from fbest = -11.0\n",
      "780) Restarting with fbest = -11.0\n",
      "Starting from fbest = -10.0\n",
      "870) Restarting with fbest = -11.0\n",
      "Starting from fbest = -10.0\n",
      "960) Restarting with fbest = -11.0\n",
      "Starting from fbest = -10.0\n"
     ]
    }
   ],
   "source": [
    "\n",
    "# Optimize the objective function\n",
    "# turbom_cartpole.optimize()\n",
    "turbo_cartpole.optimize()\n"
   ]
  },
  {
   "cell_type": "code",
   "execution_count": 6,
   "metadata": {},
   "outputs": [
    {
     "name": "stdout",
     "output_type": "stream",
     "text": [
      "Best parameters: [0.29261743]\n",
      "Best reward: 11.0\n"
     ]
    }
   ],
   "source": [
    "\n",
    "# Get the best solution found\n",
    "best_params = turbo_cartpole.X[np.argmin(turbo_cartpole.fX)]\n",
    "best_reward = -np.min(turbo_cartpole.fX)\n",
    "\n",
    "print(\"Best parameters:\", best_params)\n",
    "print(\"Best reward:\", best_reward)"
   ]
  },
  {
   "cell_type": "code",
   "execution_count": null,
   "metadata": {},
   "outputs": [],
   "source": []
  }
 ],
 "metadata": {
  "kernelspec": {
   "display_name": "turbo",
   "language": "python",
   "name": "python3"
  },
  "language_info": {
   "codemirror_mode": {
    "name": "ipython",
    "version": 3
   },
   "file_extension": ".py",
   "mimetype": "text/x-python",
   "name": "python",
   "nbconvert_exporter": "python",
   "pygments_lexer": "ipython3",
   "version": "3.10.12"
  }
 },
 "nbformat": 4,
 "nbformat_minor": 2
}
